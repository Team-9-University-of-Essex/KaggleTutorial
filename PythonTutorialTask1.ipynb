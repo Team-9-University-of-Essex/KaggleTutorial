{
  "nbformat": 4,
  "nbformat_minor": 0,
  "metadata": {
    "colab": {
      "name": "PythonTutorialTask1.ipynb",
      "provenance": [],
      "include_colab_link": true
    },
    "kernelspec": {
      "name": "python3",
      "display_name": "Python 3"
    }
  },
  "cells": [
    {
      "cell_type": "markdown",
      "metadata": {
        "id": "view-in-github",
        "colab_type": "text"
      },
      "source": [
        "<a href=\"https://colab.research.google.com/github/Team-9-University-of-Essex/KaggleTutorial/blob/Tutorial1/PythonTutorialTask1.ipynb\" target=\"_parent\"><img src=\"https://colab.research.google.com/assets/colab-badge.svg\" alt=\"Open In Colab\"/></a>"
      ]
    },
    {
      "cell_type": "code",
      "metadata": {
        "id": "hAYPFWYa6lfo",
        "colab_type": "code",
        "colab": {}
      },
      "source": [
        "import pandas as pd\n",
        "import matplotlib.pyplot as plt\n",
        "import seaborn as sns\n",
        "import numpy as np\n",
        "from scipy.stats import norm\n",
        "from sklearn.preprocessing import StandardScaler\n",
        "from scipy import stats\n",
        "import warnings\n",
        "warnings.filterwarnings('ignore')\n",
        "%matplotlib inline"
      ],
      "execution_count": 0,
      "outputs": []
    },
    {
      "cell_type": "code",
      "metadata": {
        "id": "kBZ9n1mq7s06",
        "colab_type": "code",
        "colab": {
          "base_uri": "https://localhost:8080/",
          "height": 370
        },
        "outputId": "467d1ef7-fe6d-4077-d93b-429f8ce3f78f"
      },
      "source": [
        "df_train = pd.read_csv('C:/CE101/House Prices Data/train.csv') #Change the file location!!!"
      ],
      "execution_count": 5,
      "outputs": [
        {
          "output_type": "error",
          "ename": "FileNotFoundError",
          "evalue": "ignored",
          "traceback": [
            "\u001b[0;31m---------------------------------------------------------------------------\u001b[0m",
            "\u001b[0;31mFileNotFoundError\u001b[0m                         Traceback (most recent call last)",
            "\u001b[0;32m<ipython-input-5-013928caa20f>\u001b[0m in \u001b[0;36m<module>\u001b[0;34m()\u001b[0m\n\u001b[0;32m----> 1\u001b[0;31m \u001b[0mdf_train\u001b[0m \u001b[0;34m=\u001b[0m \u001b[0mpd\u001b[0m\u001b[0;34m.\u001b[0m\u001b[0mread_csv\u001b[0m\u001b[0;34m(\u001b[0m\u001b[0;34m'C:/CE101/House Prices Data/train.csv'\u001b[0m\u001b[0;34m)\u001b[0m\u001b[0;34m\u001b[0m\u001b[0;34m\u001b[0m\u001b[0m\n\u001b[0m",
            "\u001b[0;32m/usr/local/lib/python3.6/dist-packages/pandas/io/parsers.py\u001b[0m in \u001b[0;36mparser_f\u001b[0;34m(filepath_or_buffer, sep, delimiter, header, names, index_col, usecols, squeeze, prefix, mangle_dupe_cols, dtype, engine, converters, true_values, false_values, skipinitialspace, skiprows, skipfooter, nrows, na_values, keep_default_na, na_filter, verbose, skip_blank_lines, parse_dates, infer_datetime_format, keep_date_col, date_parser, dayfirst, cache_dates, iterator, chunksize, compression, thousands, decimal, lineterminator, quotechar, quoting, doublequote, escapechar, comment, encoding, dialect, error_bad_lines, warn_bad_lines, delim_whitespace, low_memory, memory_map, float_precision)\u001b[0m\n\u001b[1;32m    683\u001b[0m         )\n\u001b[1;32m    684\u001b[0m \u001b[0;34m\u001b[0m\u001b[0m\n\u001b[0;32m--> 685\u001b[0;31m         \u001b[0;32mreturn\u001b[0m \u001b[0m_read\u001b[0m\u001b[0;34m(\u001b[0m\u001b[0mfilepath_or_buffer\u001b[0m\u001b[0;34m,\u001b[0m \u001b[0mkwds\u001b[0m\u001b[0;34m)\u001b[0m\u001b[0;34m\u001b[0m\u001b[0;34m\u001b[0m\u001b[0m\n\u001b[0m\u001b[1;32m    686\u001b[0m \u001b[0;34m\u001b[0m\u001b[0m\n\u001b[1;32m    687\u001b[0m     \u001b[0mparser_f\u001b[0m\u001b[0;34m.\u001b[0m\u001b[0m__name__\u001b[0m \u001b[0;34m=\u001b[0m \u001b[0mname\u001b[0m\u001b[0;34m\u001b[0m\u001b[0;34m\u001b[0m\u001b[0m\n",
            "\u001b[0;32m/usr/local/lib/python3.6/dist-packages/pandas/io/parsers.py\u001b[0m in \u001b[0;36m_read\u001b[0;34m(filepath_or_buffer, kwds)\u001b[0m\n\u001b[1;32m    455\u001b[0m \u001b[0;34m\u001b[0m\u001b[0m\n\u001b[1;32m    456\u001b[0m     \u001b[0;31m# Create the parser.\u001b[0m\u001b[0;34m\u001b[0m\u001b[0;34m\u001b[0m\u001b[0;34m\u001b[0m\u001b[0m\n\u001b[0;32m--> 457\u001b[0;31m     \u001b[0mparser\u001b[0m \u001b[0;34m=\u001b[0m \u001b[0mTextFileReader\u001b[0m\u001b[0;34m(\u001b[0m\u001b[0mfp_or_buf\u001b[0m\u001b[0;34m,\u001b[0m \u001b[0;34m**\u001b[0m\u001b[0mkwds\u001b[0m\u001b[0;34m)\u001b[0m\u001b[0;34m\u001b[0m\u001b[0;34m\u001b[0m\u001b[0m\n\u001b[0m\u001b[1;32m    458\u001b[0m \u001b[0;34m\u001b[0m\u001b[0m\n\u001b[1;32m    459\u001b[0m     \u001b[0;32mif\u001b[0m \u001b[0mchunksize\u001b[0m \u001b[0;32mor\u001b[0m \u001b[0miterator\u001b[0m\u001b[0;34m:\u001b[0m\u001b[0;34m\u001b[0m\u001b[0;34m\u001b[0m\u001b[0m\n",
            "\u001b[0;32m/usr/local/lib/python3.6/dist-packages/pandas/io/parsers.py\u001b[0m in \u001b[0;36m__init__\u001b[0;34m(self, f, engine, **kwds)\u001b[0m\n\u001b[1;32m    893\u001b[0m             \u001b[0mself\u001b[0m\u001b[0;34m.\u001b[0m\u001b[0moptions\u001b[0m\u001b[0;34m[\u001b[0m\u001b[0;34m\"has_index_names\"\u001b[0m\u001b[0;34m]\u001b[0m \u001b[0;34m=\u001b[0m \u001b[0mkwds\u001b[0m\u001b[0;34m[\u001b[0m\u001b[0;34m\"has_index_names\"\u001b[0m\u001b[0;34m]\u001b[0m\u001b[0;34m\u001b[0m\u001b[0;34m\u001b[0m\u001b[0m\n\u001b[1;32m    894\u001b[0m \u001b[0;34m\u001b[0m\u001b[0m\n\u001b[0;32m--> 895\u001b[0;31m         \u001b[0mself\u001b[0m\u001b[0;34m.\u001b[0m\u001b[0m_make_engine\u001b[0m\u001b[0;34m(\u001b[0m\u001b[0mself\u001b[0m\u001b[0;34m.\u001b[0m\u001b[0mengine\u001b[0m\u001b[0;34m)\u001b[0m\u001b[0;34m\u001b[0m\u001b[0;34m\u001b[0m\u001b[0m\n\u001b[0m\u001b[1;32m    896\u001b[0m \u001b[0;34m\u001b[0m\u001b[0m\n\u001b[1;32m    897\u001b[0m     \u001b[0;32mdef\u001b[0m \u001b[0mclose\u001b[0m\u001b[0;34m(\u001b[0m\u001b[0mself\u001b[0m\u001b[0;34m)\u001b[0m\u001b[0;34m:\u001b[0m\u001b[0;34m\u001b[0m\u001b[0;34m\u001b[0m\u001b[0m\n",
            "\u001b[0;32m/usr/local/lib/python3.6/dist-packages/pandas/io/parsers.py\u001b[0m in \u001b[0;36m_make_engine\u001b[0;34m(self, engine)\u001b[0m\n\u001b[1;32m   1133\u001b[0m     \u001b[0;32mdef\u001b[0m \u001b[0m_make_engine\u001b[0m\u001b[0;34m(\u001b[0m\u001b[0mself\u001b[0m\u001b[0;34m,\u001b[0m \u001b[0mengine\u001b[0m\u001b[0;34m=\u001b[0m\u001b[0;34m\"c\"\u001b[0m\u001b[0;34m)\u001b[0m\u001b[0;34m:\u001b[0m\u001b[0;34m\u001b[0m\u001b[0;34m\u001b[0m\u001b[0m\n\u001b[1;32m   1134\u001b[0m         \u001b[0;32mif\u001b[0m \u001b[0mengine\u001b[0m \u001b[0;34m==\u001b[0m \u001b[0;34m\"c\"\u001b[0m\u001b[0;34m:\u001b[0m\u001b[0;34m\u001b[0m\u001b[0;34m\u001b[0m\u001b[0m\n\u001b[0;32m-> 1135\u001b[0;31m             \u001b[0mself\u001b[0m\u001b[0;34m.\u001b[0m\u001b[0m_engine\u001b[0m \u001b[0;34m=\u001b[0m \u001b[0mCParserWrapper\u001b[0m\u001b[0;34m(\u001b[0m\u001b[0mself\u001b[0m\u001b[0;34m.\u001b[0m\u001b[0mf\u001b[0m\u001b[0;34m,\u001b[0m \u001b[0;34m**\u001b[0m\u001b[0mself\u001b[0m\u001b[0;34m.\u001b[0m\u001b[0moptions\u001b[0m\u001b[0;34m)\u001b[0m\u001b[0;34m\u001b[0m\u001b[0;34m\u001b[0m\u001b[0m\n\u001b[0m\u001b[1;32m   1136\u001b[0m         \u001b[0;32melse\u001b[0m\u001b[0;34m:\u001b[0m\u001b[0;34m\u001b[0m\u001b[0;34m\u001b[0m\u001b[0m\n\u001b[1;32m   1137\u001b[0m             \u001b[0;32mif\u001b[0m \u001b[0mengine\u001b[0m \u001b[0;34m==\u001b[0m \u001b[0;34m\"python\"\u001b[0m\u001b[0;34m:\u001b[0m\u001b[0;34m\u001b[0m\u001b[0;34m\u001b[0m\u001b[0m\n",
            "\u001b[0;32m/usr/local/lib/python3.6/dist-packages/pandas/io/parsers.py\u001b[0m in \u001b[0;36m__init__\u001b[0;34m(self, src, **kwds)\u001b[0m\n\u001b[1;32m   1915\u001b[0m         \u001b[0mkwds\u001b[0m\u001b[0;34m[\u001b[0m\u001b[0;34m\"usecols\"\u001b[0m\u001b[0;34m]\u001b[0m \u001b[0;34m=\u001b[0m \u001b[0mself\u001b[0m\u001b[0;34m.\u001b[0m\u001b[0musecols\u001b[0m\u001b[0;34m\u001b[0m\u001b[0;34m\u001b[0m\u001b[0m\n\u001b[1;32m   1916\u001b[0m \u001b[0;34m\u001b[0m\u001b[0m\n\u001b[0;32m-> 1917\u001b[0;31m         \u001b[0mself\u001b[0m\u001b[0;34m.\u001b[0m\u001b[0m_reader\u001b[0m \u001b[0;34m=\u001b[0m \u001b[0mparsers\u001b[0m\u001b[0;34m.\u001b[0m\u001b[0mTextReader\u001b[0m\u001b[0;34m(\u001b[0m\u001b[0msrc\u001b[0m\u001b[0;34m,\u001b[0m \u001b[0;34m**\u001b[0m\u001b[0mkwds\u001b[0m\u001b[0;34m)\u001b[0m\u001b[0;34m\u001b[0m\u001b[0;34m\u001b[0m\u001b[0m\n\u001b[0m\u001b[1;32m   1918\u001b[0m         \u001b[0mself\u001b[0m\u001b[0;34m.\u001b[0m\u001b[0munnamed_cols\u001b[0m \u001b[0;34m=\u001b[0m \u001b[0mself\u001b[0m\u001b[0;34m.\u001b[0m\u001b[0m_reader\u001b[0m\u001b[0;34m.\u001b[0m\u001b[0munnamed_cols\u001b[0m\u001b[0;34m\u001b[0m\u001b[0;34m\u001b[0m\u001b[0m\n\u001b[1;32m   1919\u001b[0m \u001b[0;34m\u001b[0m\u001b[0m\n",
            "\u001b[0;32mpandas/_libs/parsers.pyx\u001b[0m in \u001b[0;36mpandas._libs.parsers.TextReader.__cinit__\u001b[0;34m()\u001b[0m\n",
            "\u001b[0;32mpandas/_libs/parsers.pyx\u001b[0m in \u001b[0;36mpandas._libs.parsers.TextReader._setup_parser_source\u001b[0;34m()\u001b[0m\n",
            "\u001b[0;31mFileNotFoundError\u001b[0m: [Errno 2] File b'C:/CE101/House Prices Data/train.csv' does not exist: b'C:/CE101/House Prices Data/train.csv'"
          ]
        }
      ]
    },
    {
      "cell_type": "code",
      "metadata": {
        "id": "e5V8ls628Uq7",
        "colab_type": "code",
        "colab": {}
      },
      "source": [
        "#Checks the file\n",
        "df_train.columns"
      ],
      "execution_count": 0,
      "outputs": []
    },
    {
      "cell_type": "code",
      "metadata": {
        "id": "BPMMNpk88e2M",
        "colab_type": "code",
        "colab": {}
      },
      "source": [
        "#Descriptive statistics summary - in this case, SalePrice\n",
        "df_train['SalePrice'].describe()"
      ],
      "execution_count": 0,
      "outputs": []
    },
    {
      "cell_type": "code",
      "metadata": {
        "id": "wnoKsXbI8oYS",
        "colab_type": "code",
        "colab": {}
      },
      "source": [
        "#Plots the results of SalePrice as a histogram.\n",
        "sns.distplot(df_train['SalePrice']);"
      ],
      "execution_count": 0,
      "outputs": []
    },
    {
      "cell_type": "code",
      "metadata": {
        "id": "B_qU_UPB825V",
        "colab_type": "code",
        "colab": {}
      },
      "source": [
        "#skewness (.skew) - Parameter used to measure the symmetry of the data set. kurtosis (.kurt) - Measures how heavy the data set is compared to a normal distribution.\n",
        "print(\"Skewness: %f\" % df_train['SalePrice'].skew())\n",
        "print(\"Kurtosis: %f\" % df_train['SalePrice'].kurt())"
      ],
      "execution_count": 0,
      "outputs": []
    },
    {
      "cell_type": "code",
      "metadata": {
        "id": "q1cvQe3C9euI",
        "colab_type": "code",
        "colab": {}
      },
      "source": [
        "#scatter plot grlivarea/saleprice - should have a linear relationship.\n",
        "var = 'GrLivArea'\n",
        "data = pd.concat([df_train['SalePrice'], df_train[var]], axis=1)\n",
        "data.plot.scatter(x=var, y='SalePrice', ylim=(0,800000));"
      ],
      "execution_count": 0,
      "outputs": []
    },
    {
      "cell_type": "code",
      "metadata": {
        "id": "qhD9ejvZ9xeC",
        "colab_type": "code",
        "colab": {}
      },
      "source": [
        "#scatter plot totalbsmtsf/saleprice - should have a strong linear relationship.\n",
        "var = 'TotalBsmtSF'\n",
        "data = pd.concat([df_train['SalePrice'], df_train[var]], axis=1)\n",
        "data.plot.scatter(x=var, y='SalePrice', ylim=(0,800000));"
      ],
      "execution_count": 0,
      "outputs": []
    },
    {
      "cell_type": "code",
      "metadata": {
        "id": "SDc3vnYj92wa",
        "colab_type": "code",
        "colab": {}
      },
      "source": [
        "#box plot overallqual/saleprice\n",
        "var = 'OverallQual'\n",
        "data = pd.concat([df_train['SalePrice'], df_train[var]], axis=1)\n",
        "f, ax = plt.subplots(figsize=(8, 6))\n",
        "fig = sns.boxplot(x=var, y=\"SalePrice\", data=data)\n",
        "fig.axis(ymin=0, ymax=800000);"
      ],
      "execution_count": 0,
      "outputs": []
    },
    {
      "cell_type": "code",
      "metadata": {
        "id": "Z_e7f3cv-R-v",
        "colab_type": "code",
        "colab": {}
      },
      "source": [
        "var = 'YearBuilt'\n",
        "data = pd.concat([df_train['SalePrice'], df_train[var]], axis=1)\n",
        "f, ax = plt.subplots(figsize=(16, 8))\n",
        "fig = sns.boxplot(x=var, y=\"SalePrice\", data=data)\n",
        "fig.axis(ymin=0, ymax=800000);\n",
        "plt.xticks(rotation=90);"
      ],
      "execution_count": 0,
      "outputs": []
    },
    {
      "cell_type": "code",
      "metadata": {
        "id": "oH5QjJlv-TOo",
        "colab_type": "code",
        "colab": {}
      },
      "source": [
        "#correlation matrix - Heatmap\n",
        "corrmat = df_train.corr()\n",
        "f, ax = plt.subplots(figsize=(12, 9))\n",
        "sns.heatmap(corrmat, vmax=.8, square=True);"
      ],
      "execution_count": 0,
      "outputs": []
    },
    {
      "cell_type": "code",
      "metadata": {
        "id": "Pe6GU1I1-bjv",
        "colab_type": "code",
        "colab": {}
      },
      "source": [
        "#saleprice correlation matrix\n",
        "k = 10 #number of variables for heatmap\n",
        "cols = corrmat.nlargest(k, 'SalePrice')['SalePrice'].index\n",
        "cm = np.corrcoef(df_train[cols].values.T)\n",
        "sns.set(font_scale=1.25)\n",
        "hm = sns.heatmap(cm, cbar=True, annot=True, square=True, fmt='.2f', annot_kws={'size': 10}, yticklabels=cols.values, xticklabels=cols.values)\n",
        "plt.show()"
      ],
      "execution_count": 0,
      "outputs": []
    },
    {
      "cell_type": "code",
      "metadata": {
        "id": "Y3poJQeL-fwB",
        "colab_type": "code",
        "colab": {}
      },
      "source": [
        "#scatterplot\n",
        "sns.set()\n",
        "cols = ['SalePrice', 'OverallQual', 'GrLivArea', 'GarageCars', 'TotalBsmtSF', 'FullBath', 'YearBuilt']\n",
        "sns.pairplot(df_train[cols], size = 2.5)\n",
        "plt.show();"
      ],
      "execution_count": 0,
      "outputs": []
    },
    {
      "cell_type": "code",
      "metadata": {
        "id": "Nkwh9I4n-mDu",
        "colab_type": "code",
        "colab": {}
      },
      "source": [
        "#missing data\n",
        "total = df_train.isnull().sum().sort_values(ascending=False)\n",
        "percent = (df_train.isnull().sum()/df_train.isnull().count()).sort_values(ascending=False)\n",
        "missing_data = pd.concat([total, percent], axis=1, keys=['Total', 'Percent'])\n",
        "missing_data.head(20)"
      ],
      "execution_count": 0,
      "outputs": []
    },
    {
      "cell_type": "code",
      "metadata": {
        "id": "Sk-pKczR-oB9",
        "colab_type": "code",
        "colab": {}
      },
      "source": [
        "#dealing with missing data\n",
        "df_train = df_train.drop((missing_data[missing_data['Total'] > 1]).index,1)\n",
        "df_train = df_train.drop(df_train.loc[df_train['Electrical'].isnull()].index)\n",
        "df_train.isnull().sum().max() #just checking that there's no missing data missing..."
      ],
      "execution_count": 0,
      "outputs": []
    },
    {
      "cell_type": "code",
      "metadata": {
        "id": "-_hwN-_k-s2v",
        "colab_type": "code",
        "colab": {}
      },
      "source": [
        "#standardizing data\n",
        "saleprice_scaled = StandardScaler().fit_transform(df_train['SalePrice'][:,np.newaxis]);\n",
        "low_range = saleprice_scaled[saleprice_scaled[:,0].argsort()][:10]\n",
        "high_range= saleprice_scaled[saleprice_scaled[:,0].argsort()][-10:]\n",
        "print('outer range (low) of the distribution:')\n",
        "print(low_range)\n",
        "print('\\nouter range (high) of the distribution:')\n",
        "print(high_range)"
      ],
      "execution_count": 0,
      "outputs": []
    },
    {
      "cell_type": "code",
      "metadata": {
        "id": "gzjXc-V--wLp",
        "colab_type": "code",
        "colab": {}
      },
      "source": [
        "#bivariate analysis saleprice/grlivarea\n",
        "var = 'GrLivArea'\n",
        "data = pd.concat([df_train['SalePrice'], df_train[var]], axis=1)\n",
        "data.plot.scatter(x=var, y='SalePrice', ylim=(0,800000));"
      ],
      "execution_count": 0,
      "outputs": []
    },
    {
      "cell_type": "code",
      "metadata": {
        "id": "0pRceV83-z2K",
        "colab_type": "code",
        "colab": {}
      },
      "source": [
        "#deleting points\n",
        "df_train.sort_values(by = 'GrLivArea', ascending = False)[:2]\n",
        "df_train = df_train.drop(df_train[df_train['Id'] == 1299].index)\n",
        "df_train = df_train.drop(df_train[df_train['Id'] == 524].index)"
      ],
      "execution_count": 0,
      "outputs": []
    },
    {
      "cell_type": "code",
      "metadata": {
        "id": "OV6_GoFP-2j_",
        "colab_type": "code",
        "colab": {}
      },
      "source": [
        "#bivariate analysis saleprice/grlivarea\n",
        "var = 'TotalBsmtSF'\n",
        "data = pd.concat([df_train['SalePrice'], df_train[var]], axis=1)\n",
        "data.plot.scatter(x=var, y='SalePrice', ylim=(0,800000));"
      ],
      "execution_count": 0,
      "outputs": []
    },
    {
      "cell_type": "code",
      "metadata": {
        "id": "5CoYLG3i-6HU",
        "colab_type": "code",
        "colab": {}
      },
      "source": [
        "#histogram and normal probability plot\n",
        "sns.distplot(df_train['SalePrice'], fit=norm);\n",
        "fig = plt.figure()\n",
        "res = stats.probplot(df_train['SalePrice'], plot=plt)"
      ],
      "execution_count": 0,
      "outputs": []
    },
    {
      "cell_type": "code",
      "metadata": {
        "id": "Vh7-myrO-8pg",
        "colab_type": "code",
        "colab": {}
      },
      "source": [
        "#applying log transformation\n",
        "df_train['SalePrice'] = np.log(df_train['SalePrice'])"
      ],
      "execution_count": 0,
      "outputs": []
    },
    {
      "cell_type": "code",
      "metadata": {
        "id": "XBzTB7gf--07",
        "colab_type": "code",
        "colab": {}
      },
      "source": [
        "#transformed histogram and normal probability plot\n",
        "sns.distplot(df_train['SalePrice'], fit=norm);\n",
        "fig = plt.figure()\n",
        "res = stats.probplot(df_train['SalePrice'], plot=plt)"
      ],
      "execution_count": 0,
      "outputs": []
    },
    {
      "cell_type": "code",
      "metadata": {
        "id": "F2yKpZ-E_BSg",
        "colab_type": "code",
        "colab": {}
      },
      "source": [
        "#histogram and normal probability plot\n",
        "sns.distplot(df_train['GrLivArea'], fit=norm);\n",
        "fig = plt.figure()\n",
        "res = stats.probplot(df_train['GrLivArea'], plot=plt)"
      ],
      "execution_count": 0,
      "outputs": []
    },
    {
      "cell_type": "code",
      "metadata": {
        "id": "BA7im9Yq_CTo",
        "colab_type": "code",
        "colab": {}
      },
      "source": [
        "#data transformation\n",
        "df_train['GrLivArea'] = np.log(df_train['GrLivArea'])"
      ],
      "execution_count": 0,
      "outputs": []
    },
    {
      "cell_type": "code",
      "metadata": {
        "id": "QqG7kYDX_Eyb",
        "colab_type": "code",
        "colab": {}
      },
      "source": [
        "#transformed histogram and normal probability plot\n",
        "sns.distplot(df_train['GrLivArea'], fit=norm);\n",
        "fig = plt.figure()\n",
        "res = stats.probplot(df_train['GrLivArea'], plot=plt)"
      ],
      "execution_count": 0,
      "outputs": []
    },
    {
      "cell_type": "code",
      "metadata": {
        "id": "l35Fq13u_I5E",
        "colab_type": "code",
        "colab": {}
      },
      "source": [
        "#histogram and normal probability plot\n",
        "sns.distplot(df_train['TotalBsmtSF'], fit=norm);\n",
        "fig = plt.figure()\n",
        "res = stats.probplot(df_train['TotalBsmtSF'], plot=plt)"
      ],
      "execution_count": 0,
      "outputs": []
    },
    {
      "cell_type": "code",
      "metadata": {
        "id": "2yjEfnXk_Js6",
        "colab_type": "code",
        "colab": {}
      },
      "source": [
        "#create column for new variable (one is enough because it's a binary categorical feature)\n",
        "#if area>0 it gets 1, for area==0 it gets 0\n",
        "df_train['HasBsmt'] = pd.Series(len(df_train['TotalBsmtSF']), index=df_train.index)\n",
        "df_train['HasBsmt'] = 0 \n",
        "df_train.loc[df_train['TotalBsmtSF']>0,'HasBsmt'] = 1"
      ],
      "execution_count": 0,
      "outputs": []
    },
    {
      "cell_type": "code",
      "metadata": {
        "id": "p_a_NJB5_N_z",
        "colab_type": "code",
        "colab": {}
      },
      "source": [
        "#transform data\n",
        "df_train.loc[df_train['HasBsmt']==1,'TotalBsmtSF'] = np.log(df_train['TotalBsmtSF'])"
      ],
      "execution_count": 0,
      "outputs": []
    },
    {
      "cell_type": "code",
      "metadata": {
        "id": "TDFDl58p_SKP",
        "colab_type": "code",
        "colab": {}
      },
      "source": [
        "#histogram and normal probability plot\n",
        "sns.distplot(df_train[df_train['TotalBsmtSF']>0]['TotalBsmtSF'], fit=norm);\n",
        "fig = plt.figure()\n",
        "res = stats.probplot(df_train[df_train['TotalBsmtSF']>0]['TotalBsmtSF'], plot=plt)\n"
      ],
      "execution_count": 0,
      "outputs": []
    },
    {
      "cell_type": "code",
      "metadata": {
        "id": "dY6PT1QS_TQk",
        "colab_type": "code",
        "colab": {}
      },
      "source": [
        "#scatter plot\n",
        "plt.scatter(df_train['GrLivArea'], df_train['SalePrice']);"
      ],
      "execution_count": 0,
      "outputs": []
    },
    {
      "cell_type": "code",
      "metadata": {
        "id": "9qclgujc_Wty",
        "colab_type": "code",
        "colab": {}
      },
      "source": [
        "#scatter plot\n",
        "plt.scatter(df_train[df_train['TotalBsmtSF']>0]['TotalBsmtSF'], df_train[df_train['TotalBsmtSF']>0]['SalePrice']);"
      ],
      "execution_count": 0,
      "outputs": []
    },
    {
      "cell_type": "code",
      "metadata": {
        "id": "3tYKlb_-_Z6z",
        "colab_type": "code",
        "colab": {}
      },
      "source": [
        "#convert categorical variable into dummy\n",
        "df_train = pd.get_dummies(df_train)"
      ],
      "execution_count": 0,
      "outputs": []
    }
  ]
}