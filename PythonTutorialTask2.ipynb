{
  "nbformat": 4,
  "nbformat_minor": 0,
  "metadata": {
    "colab": {
      "name": "PythonTutorialTask2.ipynb",
      "provenance": [],
      "include_colab_link": true
    },
    "kernelspec": {
      "name": "python3",
      "display_name": "Python 3"
    }
  },
  "cells": [
    {
      "cell_type": "markdown",
      "metadata": {
        "id": "view-in-github",
        "colab_type": "text"
      },
      "source": [
        "<a href=\"https://colab.research.google.com/github/Team-9-University-of-Essex/KaggleTutorial/blob/Tutorial2/PythonTutorialTask2.ipynb\" target=\"_parent\"><img src=\"https://colab.research.google.com/assets/colab-badge.svg\" alt=\"Open In Colab\"/></a>"
      ]
    },
    {
      "cell_type": "code",
      "metadata": {
        "id": "4r6MWt13PSX_",
        "colab_type": "code",
        "colab": {}
      },
      "source": [
        "%matplotlib inline\n",
        "import numpy as np\n",
        "import pandas as pd \n",
        "import matplotlib.pyplot as plt\n",
        "import scipy.stats as stats\n",
        "import sklearn.linear_model as linear_model\n",
        "import seaborn as sns\n",
        "import xgboost as xgb\n",
        "from sklearn.model_selection import KFold\n",
        "from IPython.display import HTML, display\n",
        "from sklearn.manifold import TSNE\n",
        "from sklearn.cluster import KMeans\n",
        "from sklearn.decomposition import PCA\n",
        "from sklearn.preprocessing import StandardScaler\n",
        "\n",
        "pd.options.display.max_rows = 1000\n",
        "pd.options.display.max_columns = 20\n",
        "\n",
        "train = pd.read_csv('../input/train.csv') #Put the file location for train.csv.\n",
        "test = pd.read_csv('../input/train.csv') #Put the file location for train.csv.\n",
        "\n",
        "quantitative = [f for f in train.columns if train.dtypes[f] != 'object']\n",
        "quantitative.remove('SalePrice')\n",
        "quantitative.remove('Id')\n",
        "qualitative = [f for f in train.columns if train.dtypes[f] == 'object']"
      ],
      "execution_count": 0,
      "outputs": []
    },
    {
      "cell_type": "code",
      "metadata": {
        "id": "IwJlgiaWPzEQ",
        "colab_type": "code",
        "colab": {}
      },
      "source": [
        "missing = train.isnull().sum()\n",
        "missing = missing[missing > 0]\n",
        "missing.sort_values(inplace=True)\n",
        "missing.plot.bar()"
      ],
      "execution_count": 0,
      "outputs": []
    },
    {
      "cell_type": "code",
      "metadata": {
        "id": "CIzBLPy_QAcC",
        "colab_type": "code",
        "colab": {}
      },
      "source": [
        "import scipy.stats as st\n",
        "y = train['SalePrice']\n",
        "plt.figure(1); plt.title('Johnson SU')\n",
        "sns.distplot(y, kde=False, fit=st.johnsonsu)\n",
        "plt.figure(2); plt.title('Normal')\n",
        "sns.distplot(y, kde=False, fit=st.norm)\n",
        "plt.figure(3); plt.title('Log Normal')\n",
        "sns.distplot(y, kde=False, fit=st.lognorm)"
      ],
      "execution_count": 0,
      "outputs": []
    },
    {
      "cell_type": "code",
      "metadata": {
        "id": "0B1cVHDUQDwV",
        "colab_type": "code",
        "colab": {}
      },
      "source": [
        "test_normality = lambda x: stats.shapiro(x.fillna(0))[1] < 0.01\n",
        "normal = pd.DataFrame(train[quantitative])\n",
        "normal = normal.apply(test_normality)\n",
        "print(not normal.any())"
      ],
      "execution_count": 0,
      "outputs": []
    },
    {
      "cell_type": "code",
      "metadata": {
        "id": "tkUU6WbNQGdv",
        "colab_type": "code",
        "colab": {}
      },
      "source": [
        "f = pd.melt(train, value_vars=quantitative)\n",
        "g = sns.FacetGrid(f, col=\"variable\",  col_wrap=2, sharex=False, sharey=False)\n",
        "g = g.map(sns.distplot, \"value\")"
      ],
      "execution_count": 0,
      "outputs": []
    },
    {
      "cell_type": "code",
      "metadata": {
        "id": "tJa1KbUaQIrV",
        "colab_type": "code",
        "colab": {}
      },
      "source": [
        "for c in qualitative:\n",
        "    train[c] = train[c].astype('category')\n",
        "    if train[c].isnull().any():\n",
        "        train[c] = train[c].cat.add_categories(['MISSING'])\n",
        "        train[c] = train[c].fillna('MISSING')\n",
        "\n",
        "def boxplot(x, y, **kwargs):\n",
        "    sns.boxplot(x=x, y=y)\n",
        "    x=plt.xticks(rotation=90)\n",
        "f = pd.melt(train, id_vars=['SalePrice'], value_vars=qualitative)\n",
        "g = sns.FacetGrid(f, col=\"variable\",  col_wrap=2, sharex=False, sharey=False, size=5)\n",
        "g = g.map(boxplot, \"value\", \"SalePrice\")"
      ],
      "execution_count": 0,
      "outputs": []
    },
    {
      "cell_type": "code",
      "metadata": {
        "id": "J3lZ-oILQLzi",
        "colab_type": "code",
        "colab": {}
      },
      "source": [
        "def anova(frame):\n",
        "    anv = pd.DataFrame()\n",
        "    anv['feature'] = qualitative\n",
        "    pvals = []\n",
        "    for c in qualitative:\n",
        "        samples = []\n",
        "        for cls in frame[c].unique():\n",
        "            s = frame[frame[c] == cls]['SalePrice'].values\n",
        "            samples.append(s)\n",
        "        pval = stats.f_oneway(*samples)[1]\n",
        "        pvals.append(pval)\n",
        "    anv['pval'] = pvals\n",
        "    return anv.sort_values('pval')\n",
        "\n",
        "a = anova(train)\n",
        "a['disparity'] = np.log(1./a['pval'].values)\n",
        "sns.barplot(data=a, x='feature', y='disparity')\n",
        "x=plt.xticks(rotation=90)"
      ],
      "execution_count": 0,
      "outputs": []
    },
    {
      "cell_type": "code",
      "metadata": {
        "id": "DrY9eXi6QQZi",
        "colab_type": "code",
        "colab": {}
      },
      "source": [
        "def encode(frame, feature):\n",
        "    ordering = pd.DataFrame()\n",
        "    ordering['val'] = frame[feature].unique()\n",
        "    ordering.index = ordering.val\n",
        "    ordering['spmean'] = frame[[feature, 'SalePrice']].groupby(feature).mean()['SalePrice']\n",
        "    ordering = ordering.sort_values('spmean')\n",
        "    ordering['ordering'] = range(1, ordering.shape[0]+1)\n",
        "    ordering = ordering['ordering'].to_dict()\n",
        "    \n",
        "    for cat, o in ordering.items():\n",
        "        frame.loc[frame[feature] == cat, feature+'_E'] = o\n",
        "    \n",
        "qual_encoded = []\n",
        "for q in qualitative:  \n",
        "    encode(train, q)\n",
        "    qual_encoded.append(q+'_E')\n",
        "print(qual_encoded)"
      ],
      "execution_count": 0,
      "outputs": []
    },
    {
      "cell_type": "code",
      "metadata": {
        "id": "X5BwBRmyQS0P",
        "colab_type": "code",
        "colab": {}
      },
      "source": [
        "def spearman(frame, features):\n",
        "    spr = pd.DataFrame()\n",
        "    spr['feature'] = features\n",
        "    spr['spearman'] = [frame[f].corr(frame['SalePrice'], 'spearman') for f in features]\n",
        "    spr = spr.sort_values('spearman')\n",
        "    plt.figure(figsize=(6, 0.25*len(features)))\n",
        "    sns.barplot(data=spr, y='feature', x='spearman', orient='h')\n",
        "    \n",
        "features = quantitative + qual_encoded\n",
        "spearman(train, features)"
      ],
      "execution_count": 0,
      "outputs": []
    },
    {
      "cell_type": "code",
      "metadata": {
        "id": "WKTWyEi-QVh7",
        "colab_type": "code",
        "colab": {}
      },
      "source": [
        "plt.figure(1)\n",
        "corr = train[quantitative+['SalePrice']].corr()\n",
        "sns.heatmap(corr)\n",
        "plt.figure(2)\n",
        "corr = train[qual_encoded+['SalePrice']].corr()\n",
        "sns.heatmap(corr)\n",
        "plt.figure(3)\n",
        "corr = pd.DataFrame(np.zeros([len(quantitative)+1, len(qual_encoded)+1]), index=quantitative+['SalePrice'], columns=qual_encoded+['SalePrice'])\n",
        "for q1 in quantitative+['SalePrice']:\n",
        "    for q2 in qual_encoded+['SalePrice']:\n",
        "        corr.loc[q1, q2] = train[q1].corr(train[q2])\n",
        "sns.heatmap(corr)"
      ],
      "execution_count": 0,
      "outputs": []
    },
    {
      "cell_type": "code",
      "metadata": {
        "id": "iBFW6RexQXhS",
        "colab_type": "code",
        "colab": {}
      },
      "source": [
        "def pairplot(x, y, **kwargs):\n",
        "    ax = plt.gca()\n",
        "    ts = pd.DataFrame({'time': x, 'val': y})\n",
        "    ts = ts.groupby('time').mean()\n",
        "    ts.plot(ax=ax)\n",
        "    plt.xticks(rotation=90)\n",
        "    \n",
        "f = pd.melt(train, id_vars=['SalePrice'], value_vars=quantitative+qual_encoded)\n",
        "g = sns.FacetGrid(f, col=\"variable\",  col_wrap=2, sharex=False, sharey=False, size=5)\n",
        "g = g.map(pairplot, \"value\", \"SalePrice\")"
      ],
      "execution_count": 0,
      "outputs": []
    },
    {
      "cell_type": "code",
      "metadata": {
        "id": "P6A_KetdQbiZ",
        "colab_type": "code",
        "colab": {}
      },
      "source": [
        "features = quantitative\n",
        "\n",
        "standard = train[train['SalePrice'] < 200000]\n",
        "pricey = train[train['SalePrice'] >= 200000]\n",
        "\n",
        "diff = pd.DataFrame()\n",
        "diff['feature'] = features\n",
        "diff['difference'] = [(pricey[f].fillna(0.).mean() - standard[f].fillna(0.).mean())/(standard[f].fillna(0.).mean())\n",
        "                      for f in features]\n",
        "\n",
        "sns.barplot(data=diff, x='feature', y='difference')\n",
        "x=plt.xticks(rotation=90)"
      ],
      "execution_count": 0,
      "outputs": []
    },
    {
      "cell_type": "code",
      "metadata": {
        "id": "bVQSUDtpQdkp",
        "colab_type": "code",
        "colab": {}
      },
      "source": [
        "features = quantitative + qual_encoded\n",
        "model = TSNE(n_components=2, random_state=0, perplexity=50)\n",
        "X = train[features].fillna(0.).values\n",
        "tsne = model.fit_transform(X)\n",
        "\n",
        "std = StandardScaler()\n",
        "s = std.fit_transform(X)\n",
        "pca = PCA(n_components=30)\n",
        "pca.fit(s)\n",
        "pc = pca.transform(s)\n",
        "kmeans = KMeans(n_clusters=5)\n",
        "kmeans.fit(pc)\n",
        "\n",
        "fr = pd.DataFrame({'tsne1': tsne[:,0], 'tsne2': tsne[:, 1], 'cluster': kmeans.labels_})\n",
        "sns.lmplot(data=fr, x='tsne1', y='tsne2', hue='cluster', fit_reg=False)\n",
        "print(np.sum(pca.explained_variance_ratio_))"
      ],
      "execution_count": 0,
      "outputs": []
    },
    {
      "cell_type": "code",
      "metadata": {
        "id": "Cwc6wxYTQgJp",
        "colab_type": "code",
        "colab": {}
      },
      "source": [
        "y = train['SalePrice'].values\n",
        "def johnson(y):\n",
        "    gamma, eta, epsilon, lbda = stats.johnsonsu.fit(y)\n",
        "    yt = gamma + eta*np.arcsinh((y-epsilon)/lbda)\n",
        "    return yt, gamma, eta, epsilon, lbda\n",
        "\n",
        "def johnson_inverse(y, gamma, eta, epsilon, lbda):\n",
        "    return lbda*np.sinh((y-gamma)/eta) + epsilon\n",
        "\n",
        "yt, g, et, ep, l = johnson(y)\n",
        "yt2 = johnson_inverse(yt, g, et, ep, l)\n",
        "plt.figure(1)\n",
        "sns.distplot(yt)\n",
        "plt.figure(2)\n",
        "sns.distplot(yt2)"
      ],
      "execution_count": 0,
      "outputs": []
    },
    {
      "cell_type": "code",
      "metadata": {
        "id": "yi47IzTCQkEz",
        "colab_type": "code",
        "colab": {}
      },
      "source": [
        "def error(actual, predicted):\n",
        "    actual = np.log(actual)\n",
        "    predicted = np.log(predicted)\n",
        "    return np.sqrt(np.sum(np.square(actual-predicted))/len(actual))\n",
        "\n",
        "def log_transform(feature):\n",
        "    train[feature] = np.log1p(train[feature].values)\n",
        "\n",
        "def quadratic(feature):\n",
        "    train[feature+'2'] = train[feature]**2\n",
        "    \n",
        "log_transform('GrLivArea')\n",
        "log_transform('1stFlrSF')\n",
        "log_transform('2ndFlrSF')\n",
        "log_transform('TotalBsmtSF')\n",
        "log_transform('LotArea')\n",
        "log_transform('LotFrontage')\n",
        "log_transform('KitchenAbvGr')\n",
        "log_transform('GarageArea')\n",
        "\n",
        "quadratic('OverallQual')\n",
        "quadratic('YearBuilt')\n",
        "quadratic('YearRemodAdd')\n",
        "quadratic('TotalBsmtSF')\n",
        "quadratic('2ndFlrSF')\n",
        "quadratic('Neighborhood_E')\n",
        "quadratic('RoofMatl_E')\n",
        "quadratic('GrLivArea')\n",
        "\n",
        "qdr = ['OverallQual2', 'YearBuilt2', 'YearRemodAdd2', 'TotalBsmtSF2',\n",
        "        '2ndFlrSF2', 'Neighborhood_E2', 'RoofMatl_E2', 'GrLivArea2']\n",
        "\n",
        "train['HasBasement'] = train['TotalBsmtSF'].apply(lambda x: 1 if x > 0 else 0)\n",
        "train['HasGarage'] = train['GarageArea'].apply(lambda x: 1 if x > 0 else 0)\n",
        "train['Has2ndFloor'] = train['2ndFlrSF'].apply(lambda x: 1 if x > 0 else 0)\n",
        "train['HasMasVnr'] = train['MasVnrArea'].apply(lambda x: 1 if x > 0 else 0)\n",
        "train['HasWoodDeck'] = train['WoodDeckSF'].apply(lambda x: 1 if x > 0 else 0)\n",
        "train['HasPorch'] = train['OpenPorchSF'].apply(lambda x: 1 if x > 0 else 0)\n",
        "train['HasPool'] = train['PoolArea'].apply(lambda x: 1 if x > 0 else 0)\n",
        "train['IsNew'] = train['YearBuilt'].apply(lambda x: 1 if x > 2000 else 0)\n",
        "\n",
        "boolean = ['HasBasement', 'HasGarage', 'Has2ndFloor', 'HasMasVnr', 'HasWoodDeck',\n",
        "            'HasPorch', 'HasPool', 'IsNew']\n",
        "\n",
        "\n",
        "features = quantitative + qual_encoded + boolean + qdr\n",
        "lasso = linear_model.LassoLarsCV(max_iter=10000)\n",
        "X = train[features].fillna(0.).values\n",
        "Y = train['SalePrice'].values\n",
        "lasso.fit(X, np.log(Y))\n",
        "\n",
        "Ypred = np.exp(lasso.predict(X))\n",
        "error(Y, Ypred)"
      ],
      "execution_count": 0,
      "outputs": []
    },
    {
      "cell_type": "code",
      "metadata": {
        "id": "Pvzo3Z_SQk2U",
        "colab_type": "code",
        "colab": {}
      },
      "source": [
        "import patsy\n",
        "\n",
        "Y, X = patsy.dmatrices(\n",
        "    \"SalePrice ~ \\\n",
        "        GarageCars + \\\n",
        "        np.log1p(BsmtFinSF1) + \\\n",
        "        ScreenPorch + \\\n",
        "        Condition1_E + \\\n",
        "        Condition2_E + \\\n",
        "        WoodDeckSF + \\\n",
        "        np.log1p(LotArea) + \\\n",
        "        Foundation_E + \\\n",
        "        MSZoning_E + \\\n",
        "        MasVnrType_E + \\\n",
        "        HouseStyle_E + \\\n",
        "        Fireplaces + \\\n",
        "        CentralAir_E + \\\n",
        "        BsmtFullBath + \\\n",
        "        EnclosedPorch + \\\n",
        "        PavedDrive_E + \\\n",
        "        ExterQual_E + \\\n",
        "        bs(OverallCond, df=7, degree=1) + \\\n",
        "        bs(MSSubClass, df=7, degree=1) + \\\n",
        "        bs(LotArea, df=2, degree=1) + \\\n",
        "        bs(FullBath, df=3, degree=1) + \\\n",
        "        bs(HalfBath, df=2, degree=1) + \\\n",
        "        bs(BsmtFullBath, df=3, degree=1) + \\\n",
        "        bs(TotRmsAbvGrd, df=2, degree=1) + \\\n",
        "        bs(LandSlope_E, df=2, degree=1) + \\\n",
        "        bs(LotConfig_E, df=2, degree=1) + \\\n",
        "        bs(SaleCondition_E, df=3, degree=1) + \\\n",
        "        OverallQual + np.square(OverallQual) + \\\n",
        "        GrLivArea + np.square(GrLivArea) + \\\n",
        "        Q('1stFlrSF') + np.square(Q('1stFlrSF')) + \\\n",
        "        Q('2ndFlrSF') + np.square(Q('2ndFlrSF')) +  \\\n",
        "        TotalBsmtSF + np.square(TotalBsmtSF) +  \\\n",
        "        KitchenAbvGr + np.square(KitchenAbvGr) +  \\\n",
        "        YearBuilt + np.square(YearBuilt) + \\\n",
        "        Neighborhood_E + np.square(Neighborhood_E) + \\\n",
        "        Neighborhood_E:OverallQual + \\\n",
        "        MSSubClass:BldgType_E + \\\n",
        "        ExterQual_E:OverallQual + \\\n",
        "        PoolArea:PoolQC_E + \\\n",
        "        Fireplaces:FireplaceQu_E + \\\n",
        "        OverallQual:KitchenQual_E + \\\n",
        "        GarageQual_E:GarageCond + \\\n",
        "        GarageArea:GarageCars + \\\n",
        "        Q('1stFlrSF'):TotalBsmtSF + \\\n",
        "        TotRmsAbvGrd:GrLivArea\",\n",
        "    train.to_dict('list'))\n",
        "\n",
        "ridge = linear_model.RidgeCV(cv=10)\n",
        "ridge.fit(X, np.log(Y))\n",
        "Ypred = np.exp(ridge.predict(X))\n",
        "print(error(Y,Ypred))"
      ],
      "execution_count": 0,
      "outputs": []
    }
  ]
}